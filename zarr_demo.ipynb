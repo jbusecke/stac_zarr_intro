{
 "cells": [
  {
   "cell_type": "markdown",
   "id": "agreed-brown",
   "metadata": {},
   "source": [
    "# Zarr Demo\n",
    "\n",
    "The following notebook illustrates the makeup and usage of zarr files.\n",
    "\n",
    "We start with a simple synthetic example and then move to a 'real-world' dataset based on commonly used climate model output from the [pangeo cmip6 cloud archive](https://pangeo-data.github.io/pangeo-cmip6-cloud/accessing_data.html#opening-a-single-zarr-data-store).."
   ]
  },
  {
   "cell_type": "markdown",
   "id": "unsigned-vietnamese",
   "metadata": {},
   "source": [
    "## Toy Example"
   ]
  },
  {
   "cell_type": "code",
   "execution_count": 7,
   "id": "homeless-metabolism",
   "metadata": {},
   "outputs": [
    {
     "data": {
      "text/plain": [
       "<zarr.hierarchy.Group '/'>"
      ]
     },
     "execution_count": 7,
     "metadata": {},
     "output_type": "execute_result"
    }
   ],
   "source": [
    "import zarr\n",
    "# create a 10x10 element array that is chunked along the first dimension\n",
    "toystore = zarr.open('test.zarr', mode='w')\n",
    "toystore"
   ]
  },
  {
   "cell_type": "code",
   "execution_count": 8,
   "id": "honest-notification",
   "metadata": {},
   "outputs": [
    {
     "data": {
      "text/plain": [
       "<zarr.core.Array '/test_array' (10, 10) int32>"
      ]
     },
     "execution_count": 8,
     "metadata": {},
     "output_type": "execute_result"
    }
   ],
   "source": [
    "z = toystore.zeros('test_array', shape=(10, 10), chunks=(1, 10), dtype='i4')\n",
    "z"
   ]
  },
  {
   "cell_type": "code",
   "execution_count": 13,
   "id": "sophisticated-estimate",
   "metadata": {},
   "outputs": [],
   "source": [
    "# populate the array with data\n",
    "z[:] = 42"
   ]
  },
  {
   "cell_type": "markdown",
   "id": "ecological-investor",
   "metadata": {},
   "source": [
    "Now lets investigate the content of the created `test.zarr` folder."
   ]
  },
  {
   "cell_type": "code",
   "execution_count": 14,
   "id": "billion-differential",
   "metadata": {},
   "outputs": [
    {
     "name": "stdout",
     "output_type": "stream",
     "text": [
      "total 16\n",
      "drwxr-xr-x 3 jovyan root 4096 Mar  5 17:20 .\n",
      "drwxr-xr-x 5 jovyan root 4096 Mar  5 17:22 ..\n",
      "-rw-r--r-- 1 jovyan root   24 Mar  5 17:20 .zgroup\n",
      "drwxr-xr-x 2 jovyan root 4096 Mar  5 17:23 test_array\n"
     ]
    }
   ],
   "source": [
    "!ls -la test.zarr/"
   ]
  },
  {
   "cell_type": "markdown",
   "id": "twelve-product",
   "metadata": {},
   "source": [
    "We only added one array (`test_array`), which created a subfoler with the following content:"
   ]
  },
  {
   "cell_type": "code",
   "execution_count": 15,
   "id": "known-cross",
   "metadata": {},
   "outputs": [
    {
     "name": "stdout",
     "output_type": "stream",
     "text": [
      "total 52\n",
      "drwxr-xr-x 2 jovyan root 4096 Mar  5 17:23 .\n",
      "drwxr-xr-x 3 jovyan root 4096 Mar  5 17:20 ..\n",
      "-rw-r--r-- 1 jovyan root  334 Mar  5 17:20 .zarray\n",
      "-rw-r--r-- 1 jovyan root   56 Mar  5 17:23 0.0\n",
      "-rw-r--r-- 1 jovyan root   56 Mar  5 17:23 1.0\n",
      "-rw-r--r-- 1 jovyan root   56 Mar  5 17:23 2.0\n",
      "-rw-r--r-- 1 jovyan root   56 Mar  5 17:23 3.0\n",
      "-rw-r--r-- 1 jovyan root   56 Mar  5 17:23 4.0\n",
      "-rw-r--r-- 1 jovyan root   56 Mar  5 17:23 5.0\n",
      "-rw-r--r-- 1 jovyan root   56 Mar  5 17:23 6.0\n",
      "-rw-r--r-- 1 jovyan root   56 Mar  5 17:23 7.0\n",
      "-rw-r--r-- 1 jovyan root   56 Mar  5 17:23 8.0\n",
      "-rw-r--r-- 1 jovyan root   56 Mar  5 17:23 9.0\n"
     ]
    }
   ],
   "source": [
    "!ls -la test.zarr/test_array/"
   ]
  },
  {
   "cell_type": "markdown",
   "id": "anticipated-episode",
   "metadata": {},
   "source": [
    "The actual data is written as one file per chunk, resulting in 10 files (`xx.0`), where `xx` indicates the chunknumber along the first dimension. The additional `.zarray` file contains information about the array like the number of elements along each dimension (`shape`), the size of chunks (`chunks`), and other parameters like compression."
   ]
  },
  {
   "cell_type": "code",
   "execution_count": 28,
   "id": "blessed-plasma",
   "metadata": {},
   "outputs": [
    {
     "data": {
      "text/plain": [
       "{'chunks': [1, 10],\n",
       " 'compressor': {'blocksize': 0,\n",
       "  'clevel': 5,\n",
       "  'cname': 'lz4',\n",
       "  'id': 'blosc',\n",
       "  'shuffle': 1},\n",
       " 'dtype': '<i4',\n",
       " 'fill_value': 0,\n",
       " 'filters': None,\n",
       " 'order': 'C',\n",
       " 'shape': [10, 10],\n",
       " 'zarr_format': 2}"
      ]
     },
     "execution_count": 28,
     "metadata": {},
     "output_type": "execute_result"
    }
   ],
   "source": [
    "import json\n",
    "f = open('test.zarr/test_array/.zarray', 'r')\n",
    "json.load(f)"
   ]
  },
  {
   "cell_type": "markdown",
   "id": "amazing-montreal",
   "metadata": {},
   "source": [
    "## Real World Example"
   ]
  },
  {
   "cell_type": "code",
   "execution_count": 29,
   "id": "ambient-component",
   "metadata": {},
   "outputs": [],
   "source": [
    "import gcsfs\n",
    "\n",
    "# a CMIP6 zarr store\n",
    "store = 'gs://cmip6/CMIP6/CMIP/NOAA-GFDL/GFDL-ESM4/historical/r1i1p1f1/Omon/thetao/gr/v20190726/'\n",
    "\n",
    "# Connect to Google Cloud Storage\n",
    "fs = gcsfs.GCSFileSystem(token='anon', access='read_only')\n",
    "\n",
    "# create a MutableMapping from a store URL\n",
    "mapper = fs.get_mapper(store)"
   ]
  },
  {
   "cell_type": "markdown",
   "id": "colonial-oxford",
   "metadata": {},
   "source": [
    "Using zarr a dataset not a single file, but instead is a folder with subfolders and files within."
   ]
  },
  {
   "cell_type": "code",
   "execution_count": 30,
   "id": "suitable-above",
   "metadata": {},
   "outputs": [
    {
     "data": {
      "text/plain": [
       "['cmip6/CMIP6/CMIP/NOAA-GFDL/GFDL-ESM4/historical/r1i1p1f1/Omon/thetao/gr/v20190726/.zattrs',\n",
       " 'cmip6/CMIP6/CMIP/NOAA-GFDL/GFDL-ESM4/historical/r1i1p1f1/Omon/thetao/gr/v20190726/.zgroup',\n",
       " 'cmip6/CMIP6/CMIP/NOAA-GFDL/GFDL-ESM4/historical/r1i1p1f1/Omon/thetao/gr/v20190726/.zmetadata',\n",
       " 'cmip6/CMIP6/CMIP/NOAA-GFDL/GFDL-ESM4/historical/r1i1p1f1/Omon/thetao/gr/v20190726/lat',\n",
       " 'cmip6/CMIP6/CMIP/NOAA-GFDL/GFDL-ESM4/historical/r1i1p1f1/Omon/thetao/gr/v20190726/lat_bnds',\n",
       " 'cmip6/CMIP6/CMIP/NOAA-GFDL/GFDL-ESM4/historical/r1i1p1f1/Omon/thetao/gr/v20190726/lev',\n",
       " 'cmip6/CMIP6/CMIP/NOAA-GFDL/GFDL-ESM4/historical/r1i1p1f1/Omon/thetao/gr/v20190726/lev_bnds',\n",
       " 'cmip6/CMIP6/CMIP/NOAA-GFDL/GFDL-ESM4/historical/r1i1p1f1/Omon/thetao/gr/v20190726/lon',\n",
       " 'cmip6/CMIP6/CMIP/NOAA-GFDL/GFDL-ESM4/historical/r1i1p1f1/Omon/thetao/gr/v20190726/lon_bnds',\n",
       " 'cmip6/CMIP6/CMIP/NOAA-GFDL/GFDL-ESM4/historical/r1i1p1f1/Omon/thetao/gr/v20190726/thetao',\n",
       " 'cmip6/CMIP6/CMIP/NOAA-GFDL/GFDL-ESM4/historical/r1i1p1f1/Omon/thetao/gr/v20190726/time',\n",
       " 'cmip6/CMIP6/CMIP/NOAA-GFDL/GFDL-ESM4/historical/r1i1p1f1/Omon/thetao/gr/v20190726/time_bnds']"
      ]
     },
     "execution_count": 30,
     "metadata": {},
     "output_type": "execute_result"
    }
   ],
   "source": [
    "# list the content of the zarr store\n",
    "lst = fs.ls(store, detail=False)\n",
    "lst"
   ]
  },
  {
   "cell_type": "markdown",
   "id": "cooperative-constitution",
   "metadata": {},
   "source": [
    "This full structure is called a 'zarr group', representing several data arrays ('zarr arrays').\n",
    "Each array represent n-dimensional arrays which are chunked. Lets investigate an example array `thetao`."
   ]
  },
  {
   "cell_type": "code",
   "execution_count": 31,
   "id": "pretty-slovenia",
   "metadata": {},
   "outputs": [
    {
     "data": {
      "text/plain": [
       "['cmip6/CMIP6/CMIP/NOAA-GFDL/GFDL-ESM4/historical/r1i1p1f1/Omon/thetao/gr/v20190726/thetao/.zarray',\n",
       " 'cmip6/CMIP6/CMIP/NOAA-GFDL/GFDL-ESM4/historical/r1i1p1f1/Omon/thetao/gr/v20190726/thetao/.zattrs',\n",
       " 'cmip6/CMIP6/CMIP/NOAA-GFDL/GFDL-ESM4/historical/r1i1p1f1/Omon/thetao/gr/v20190726/thetao/0.0.0.0',\n",
       " 'cmip6/CMIP6/CMIP/NOAA-GFDL/GFDL-ESM4/historical/r1i1p1f1/Omon/thetao/gr/v20190726/thetao/1.0.0.0',\n",
       " 'cmip6/CMIP6/CMIP/NOAA-GFDL/GFDL-ESM4/historical/r1i1p1f1/Omon/thetao/gr/v20190726/thetao/10.0.0.0',\n",
       " 'cmip6/CMIP6/CMIP/NOAA-GFDL/GFDL-ESM4/historical/r1i1p1f1/Omon/thetao/gr/v20190726/thetao/100.0.0.0',\n",
       " 'cmip6/CMIP6/CMIP/NOAA-GFDL/GFDL-ESM4/historical/r1i1p1f1/Omon/thetao/gr/v20190726/thetao/101.0.0.0',\n",
       " 'cmip6/CMIP6/CMIP/NOAA-GFDL/GFDL-ESM4/historical/r1i1p1f1/Omon/thetao/gr/v20190726/thetao/102.0.0.0',\n",
       " 'cmip6/CMIP6/CMIP/NOAA-GFDL/GFDL-ESM4/historical/r1i1p1f1/Omon/thetao/gr/v20190726/thetao/103.0.0.0',\n",
       " 'cmip6/CMIP6/CMIP/NOAA-GFDL/GFDL-ESM4/historical/r1i1p1f1/Omon/thetao/gr/v20190726/thetao/104.0.0.0',\n",
       " 'cmip6/CMIP6/CMIP/NOAA-GFDL/GFDL-ESM4/historical/r1i1p1f1/Omon/thetao/gr/v20190726/thetao/105.0.0.0',\n",
       " 'cmip6/CMIP6/CMIP/NOAA-GFDL/GFDL-ESM4/historical/r1i1p1f1/Omon/thetao/gr/v20190726/thetao/106.0.0.0',\n",
       " 'cmip6/CMIP6/CMIP/NOAA-GFDL/GFDL-ESM4/historical/r1i1p1f1/Omon/thetao/gr/v20190726/thetao/107.0.0.0',\n",
       " 'cmip6/CMIP6/CMIP/NOAA-GFDL/GFDL-ESM4/historical/r1i1p1f1/Omon/thetao/gr/v20190726/thetao/108.0.0.0',\n",
       " 'cmip6/CMIP6/CMIP/NOAA-GFDL/GFDL-ESM4/historical/r1i1p1f1/Omon/thetao/gr/v20190726/thetao/109.0.0.0',\n",
       " 'cmip6/CMIP6/CMIP/NOAA-GFDL/GFDL-ESM4/historical/r1i1p1f1/Omon/thetao/gr/v20190726/thetao/11.0.0.0',\n",
       " 'cmip6/CMIP6/CMIP/NOAA-GFDL/GFDL-ESM4/historical/r1i1p1f1/Omon/thetao/gr/v20190726/thetao/110.0.0.0',\n",
       " 'cmip6/CMIP6/CMIP/NOAA-GFDL/GFDL-ESM4/historical/r1i1p1f1/Omon/thetao/gr/v20190726/thetao/111.0.0.0',\n",
       " 'cmip6/CMIP6/CMIP/NOAA-GFDL/GFDL-ESM4/historical/r1i1p1f1/Omon/thetao/gr/v20190726/thetao/112.0.0.0',\n",
       " 'cmip6/CMIP6/CMIP/NOAA-GFDL/GFDL-ESM4/historical/r1i1p1f1/Omon/thetao/gr/v20190726/thetao/113.0.0.0',\n",
       " 'cmip6/CMIP6/CMIP/NOAA-GFDL/GFDL-ESM4/historical/r1i1p1f1/Omon/thetao/gr/v20190726/thetao/114.0.0.0',\n",
       " 'cmip6/CMIP6/CMIP/NOAA-GFDL/GFDL-ESM4/historical/r1i1p1f1/Omon/thetao/gr/v20190726/thetao/115.0.0.0',\n",
       " 'cmip6/CMIP6/CMIP/NOAA-GFDL/GFDL-ESM4/historical/r1i1p1f1/Omon/thetao/gr/v20190726/thetao/116.0.0.0',\n",
       " 'cmip6/CMIP6/CMIP/NOAA-GFDL/GFDL-ESM4/historical/r1i1p1f1/Omon/thetao/gr/v20190726/thetao/117.0.0.0',\n",
       " 'cmip6/CMIP6/CMIP/NOAA-GFDL/GFDL-ESM4/historical/r1i1p1f1/Omon/thetao/gr/v20190726/thetao/118.0.0.0',\n",
       " 'cmip6/CMIP6/CMIP/NOAA-GFDL/GFDL-ESM4/historical/r1i1p1f1/Omon/thetao/gr/v20190726/thetao/119.0.0.0',\n",
       " 'cmip6/CMIP6/CMIP/NOAA-GFDL/GFDL-ESM4/historical/r1i1p1f1/Omon/thetao/gr/v20190726/thetao/12.0.0.0',\n",
       " 'cmip6/CMIP6/CMIP/NOAA-GFDL/GFDL-ESM4/historical/r1i1p1f1/Omon/thetao/gr/v20190726/thetao/120.0.0.0',\n",
       " 'cmip6/CMIP6/CMIP/NOAA-GFDL/GFDL-ESM4/historical/r1i1p1f1/Omon/thetao/gr/v20190726/thetao/121.0.0.0',\n",
       " 'cmip6/CMIP6/CMIP/NOAA-GFDL/GFDL-ESM4/historical/r1i1p1f1/Omon/thetao/gr/v20190726/thetao/122.0.0.0',\n",
       " 'cmip6/CMIP6/CMIP/NOAA-GFDL/GFDL-ESM4/historical/r1i1p1f1/Omon/thetao/gr/v20190726/thetao/123.0.0.0',\n",
       " 'cmip6/CMIP6/CMIP/NOAA-GFDL/GFDL-ESM4/historical/r1i1p1f1/Omon/thetao/gr/v20190726/thetao/124.0.0.0',\n",
       " 'cmip6/CMIP6/CMIP/NOAA-GFDL/GFDL-ESM4/historical/r1i1p1f1/Omon/thetao/gr/v20190726/thetao/125.0.0.0',\n",
       " 'cmip6/CMIP6/CMIP/NOAA-GFDL/GFDL-ESM4/historical/r1i1p1f1/Omon/thetao/gr/v20190726/thetao/126.0.0.0',\n",
       " 'cmip6/CMIP6/CMIP/NOAA-GFDL/GFDL-ESM4/historical/r1i1p1f1/Omon/thetao/gr/v20190726/thetao/127.0.0.0',\n",
       " 'cmip6/CMIP6/CMIP/NOAA-GFDL/GFDL-ESM4/historical/r1i1p1f1/Omon/thetao/gr/v20190726/thetao/128.0.0.0',\n",
       " 'cmip6/CMIP6/CMIP/NOAA-GFDL/GFDL-ESM4/historical/r1i1p1f1/Omon/thetao/gr/v20190726/thetao/129.0.0.0',\n",
       " 'cmip6/CMIP6/CMIP/NOAA-GFDL/GFDL-ESM4/historical/r1i1p1f1/Omon/thetao/gr/v20190726/thetao/13.0.0.0',\n",
       " 'cmip6/CMIP6/CMIP/NOAA-GFDL/GFDL-ESM4/historical/r1i1p1f1/Omon/thetao/gr/v20190726/thetao/130.0.0.0',\n",
       " 'cmip6/CMIP6/CMIP/NOAA-GFDL/GFDL-ESM4/historical/r1i1p1f1/Omon/thetao/gr/v20190726/thetao/131.0.0.0',\n",
       " 'cmip6/CMIP6/CMIP/NOAA-GFDL/GFDL-ESM4/historical/r1i1p1f1/Omon/thetao/gr/v20190726/thetao/132.0.0.0',\n",
       " 'cmip6/CMIP6/CMIP/NOAA-GFDL/GFDL-ESM4/historical/r1i1p1f1/Omon/thetao/gr/v20190726/thetao/133.0.0.0',\n",
       " 'cmip6/CMIP6/CMIP/NOAA-GFDL/GFDL-ESM4/historical/r1i1p1f1/Omon/thetao/gr/v20190726/thetao/134.0.0.0',\n",
       " 'cmip6/CMIP6/CMIP/NOAA-GFDL/GFDL-ESM4/historical/r1i1p1f1/Omon/thetao/gr/v20190726/thetao/135.0.0.0',\n",
       " 'cmip6/CMIP6/CMIP/NOAA-GFDL/GFDL-ESM4/historical/r1i1p1f1/Omon/thetao/gr/v20190726/thetao/136.0.0.0',\n",
       " 'cmip6/CMIP6/CMIP/NOAA-GFDL/GFDL-ESM4/historical/r1i1p1f1/Omon/thetao/gr/v20190726/thetao/137.0.0.0',\n",
       " 'cmip6/CMIP6/CMIP/NOAA-GFDL/GFDL-ESM4/historical/r1i1p1f1/Omon/thetao/gr/v20190726/thetao/138.0.0.0',\n",
       " 'cmip6/CMIP6/CMIP/NOAA-GFDL/GFDL-ESM4/historical/r1i1p1f1/Omon/thetao/gr/v20190726/thetao/139.0.0.0',\n",
       " 'cmip6/CMIP6/CMIP/NOAA-GFDL/GFDL-ESM4/historical/r1i1p1f1/Omon/thetao/gr/v20190726/thetao/14.0.0.0',\n",
       " 'cmip6/CMIP6/CMIP/NOAA-GFDL/GFDL-ESM4/historical/r1i1p1f1/Omon/thetao/gr/v20190726/thetao/140.0.0.0',\n",
       " 'cmip6/CMIP6/CMIP/NOAA-GFDL/GFDL-ESM4/historical/r1i1p1f1/Omon/thetao/gr/v20190726/thetao/141.0.0.0',\n",
       " 'cmip6/CMIP6/CMIP/NOAA-GFDL/GFDL-ESM4/historical/r1i1p1f1/Omon/thetao/gr/v20190726/thetao/142.0.0.0',\n",
       " 'cmip6/CMIP6/CMIP/NOAA-GFDL/GFDL-ESM4/historical/r1i1p1f1/Omon/thetao/gr/v20190726/thetao/143.0.0.0',\n",
       " 'cmip6/CMIP6/CMIP/NOAA-GFDL/GFDL-ESM4/historical/r1i1p1f1/Omon/thetao/gr/v20190726/thetao/144.0.0.0',\n",
       " 'cmip6/CMIP6/CMIP/NOAA-GFDL/GFDL-ESM4/historical/r1i1p1f1/Omon/thetao/gr/v20190726/thetao/145.0.0.0',\n",
       " 'cmip6/CMIP6/CMIP/NOAA-GFDL/GFDL-ESM4/historical/r1i1p1f1/Omon/thetao/gr/v20190726/thetao/146.0.0.0',\n",
       " 'cmip6/CMIP6/CMIP/NOAA-GFDL/GFDL-ESM4/historical/r1i1p1f1/Omon/thetao/gr/v20190726/thetao/147.0.0.0',\n",
       " 'cmip6/CMIP6/CMIP/NOAA-GFDL/GFDL-ESM4/historical/r1i1p1f1/Omon/thetao/gr/v20190726/thetao/148.0.0.0',\n",
       " 'cmip6/CMIP6/CMIP/NOAA-GFDL/GFDL-ESM4/historical/r1i1p1f1/Omon/thetao/gr/v20190726/thetao/149.0.0.0',\n",
       " 'cmip6/CMIP6/CMIP/NOAA-GFDL/GFDL-ESM4/historical/r1i1p1f1/Omon/thetao/gr/v20190726/thetao/15.0.0.0',\n",
       " 'cmip6/CMIP6/CMIP/NOAA-GFDL/GFDL-ESM4/historical/r1i1p1f1/Omon/thetao/gr/v20190726/thetao/150.0.0.0',\n",
       " 'cmip6/CMIP6/CMIP/NOAA-GFDL/GFDL-ESM4/historical/r1i1p1f1/Omon/thetao/gr/v20190726/thetao/151.0.0.0',\n",
       " 'cmip6/CMIP6/CMIP/NOAA-GFDL/GFDL-ESM4/historical/r1i1p1f1/Omon/thetao/gr/v20190726/thetao/152.0.0.0',\n",
       " 'cmip6/CMIP6/CMIP/NOAA-GFDL/GFDL-ESM4/historical/r1i1p1f1/Omon/thetao/gr/v20190726/thetao/153.0.0.0',\n",
       " 'cmip6/CMIP6/CMIP/NOAA-GFDL/GFDL-ESM4/historical/r1i1p1f1/Omon/thetao/gr/v20190726/thetao/154.0.0.0',\n",
       " 'cmip6/CMIP6/CMIP/NOAA-GFDL/GFDL-ESM4/historical/r1i1p1f1/Omon/thetao/gr/v20190726/thetao/155.0.0.0',\n",
       " 'cmip6/CMIP6/CMIP/NOAA-GFDL/GFDL-ESM4/historical/r1i1p1f1/Omon/thetao/gr/v20190726/thetao/156.0.0.0',\n",
       " 'cmip6/CMIP6/CMIP/NOAA-GFDL/GFDL-ESM4/historical/r1i1p1f1/Omon/thetao/gr/v20190726/thetao/157.0.0.0',\n",
       " 'cmip6/CMIP6/CMIP/NOAA-GFDL/GFDL-ESM4/historical/r1i1p1f1/Omon/thetao/gr/v20190726/thetao/158.0.0.0',\n",
       " 'cmip6/CMIP6/CMIP/NOAA-GFDL/GFDL-ESM4/historical/r1i1p1f1/Omon/thetao/gr/v20190726/thetao/159.0.0.0',\n",
       " 'cmip6/CMIP6/CMIP/NOAA-GFDL/GFDL-ESM4/historical/r1i1p1f1/Omon/thetao/gr/v20190726/thetao/16.0.0.0',\n",
       " 'cmip6/CMIP6/CMIP/NOAA-GFDL/GFDL-ESM4/historical/r1i1p1f1/Omon/thetao/gr/v20190726/thetao/160.0.0.0',\n",
       " 'cmip6/CMIP6/CMIP/NOAA-GFDL/GFDL-ESM4/historical/r1i1p1f1/Omon/thetao/gr/v20190726/thetao/161.0.0.0',\n",
       " 'cmip6/CMIP6/CMIP/NOAA-GFDL/GFDL-ESM4/historical/r1i1p1f1/Omon/thetao/gr/v20190726/thetao/162.0.0.0',\n",
       " 'cmip6/CMIP6/CMIP/NOAA-GFDL/GFDL-ESM4/historical/r1i1p1f1/Omon/thetao/gr/v20190726/thetao/163.0.0.0',\n",
       " 'cmip6/CMIP6/CMIP/NOAA-GFDL/GFDL-ESM4/historical/r1i1p1f1/Omon/thetao/gr/v20190726/thetao/164.0.0.0',\n",
       " 'cmip6/CMIP6/CMIP/NOAA-GFDL/GFDL-ESM4/historical/r1i1p1f1/Omon/thetao/gr/v20190726/thetao/17.0.0.0',\n",
       " 'cmip6/CMIP6/CMIP/NOAA-GFDL/GFDL-ESM4/historical/r1i1p1f1/Omon/thetao/gr/v20190726/thetao/18.0.0.0',\n",
       " 'cmip6/CMIP6/CMIP/NOAA-GFDL/GFDL-ESM4/historical/r1i1p1f1/Omon/thetao/gr/v20190726/thetao/19.0.0.0',\n",
       " 'cmip6/CMIP6/CMIP/NOAA-GFDL/GFDL-ESM4/historical/r1i1p1f1/Omon/thetao/gr/v20190726/thetao/2.0.0.0',\n",
       " 'cmip6/CMIP6/CMIP/NOAA-GFDL/GFDL-ESM4/historical/r1i1p1f1/Omon/thetao/gr/v20190726/thetao/20.0.0.0',\n",
       " 'cmip6/CMIP6/CMIP/NOAA-GFDL/GFDL-ESM4/historical/r1i1p1f1/Omon/thetao/gr/v20190726/thetao/21.0.0.0',\n",
       " 'cmip6/CMIP6/CMIP/NOAA-GFDL/GFDL-ESM4/historical/r1i1p1f1/Omon/thetao/gr/v20190726/thetao/22.0.0.0',\n",
       " 'cmip6/CMIP6/CMIP/NOAA-GFDL/GFDL-ESM4/historical/r1i1p1f1/Omon/thetao/gr/v20190726/thetao/23.0.0.0',\n",
       " 'cmip6/CMIP6/CMIP/NOAA-GFDL/GFDL-ESM4/historical/r1i1p1f1/Omon/thetao/gr/v20190726/thetao/24.0.0.0',\n",
       " 'cmip6/CMIP6/CMIP/NOAA-GFDL/GFDL-ESM4/historical/r1i1p1f1/Omon/thetao/gr/v20190726/thetao/25.0.0.0',\n",
       " 'cmip6/CMIP6/CMIP/NOAA-GFDL/GFDL-ESM4/historical/r1i1p1f1/Omon/thetao/gr/v20190726/thetao/26.0.0.0',\n",
       " 'cmip6/CMIP6/CMIP/NOAA-GFDL/GFDL-ESM4/historical/r1i1p1f1/Omon/thetao/gr/v20190726/thetao/27.0.0.0',\n",
       " 'cmip6/CMIP6/CMIP/NOAA-GFDL/GFDL-ESM4/historical/r1i1p1f1/Omon/thetao/gr/v20190726/thetao/28.0.0.0',\n",
       " 'cmip6/CMIP6/CMIP/NOAA-GFDL/GFDL-ESM4/historical/r1i1p1f1/Omon/thetao/gr/v20190726/thetao/29.0.0.0',\n",
       " 'cmip6/CMIP6/CMIP/NOAA-GFDL/GFDL-ESM4/historical/r1i1p1f1/Omon/thetao/gr/v20190726/thetao/3.0.0.0',\n",
       " 'cmip6/CMIP6/CMIP/NOAA-GFDL/GFDL-ESM4/historical/r1i1p1f1/Omon/thetao/gr/v20190726/thetao/30.0.0.0',\n",
       " 'cmip6/CMIP6/CMIP/NOAA-GFDL/GFDL-ESM4/historical/r1i1p1f1/Omon/thetao/gr/v20190726/thetao/31.0.0.0',\n",
       " 'cmip6/CMIP6/CMIP/NOAA-GFDL/GFDL-ESM4/historical/r1i1p1f1/Omon/thetao/gr/v20190726/thetao/32.0.0.0',\n",
       " 'cmip6/CMIP6/CMIP/NOAA-GFDL/GFDL-ESM4/historical/r1i1p1f1/Omon/thetao/gr/v20190726/thetao/33.0.0.0',\n",
       " 'cmip6/CMIP6/CMIP/NOAA-GFDL/GFDL-ESM4/historical/r1i1p1f1/Omon/thetao/gr/v20190726/thetao/34.0.0.0',\n",
       " 'cmip6/CMIP6/CMIP/NOAA-GFDL/GFDL-ESM4/historical/r1i1p1f1/Omon/thetao/gr/v20190726/thetao/35.0.0.0',\n",
       " 'cmip6/CMIP6/CMIP/NOAA-GFDL/GFDL-ESM4/historical/r1i1p1f1/Omon/thetao/gr/v20190726/thetao/36.0.0.0',\n",
       " 'cmip6/CMIP6/CMIP/NOAA-GFDL/GFDL-ESM4/historical/r1i1p1f1/Omon/thetao/gr/v20190726/thetao/37.0.0.0',\n",
       " 'cmip6/CMIP6/CMIP/NOAA-GFDL/GFDL-ESM4/historical/r1i1p1f1/Omon/thetao/gr/v20190726/thetao/38.0.0.0',\n",
       " 'cmip6/CMIP6/CMIP/NOAA-GFDL/GFDL-ESM4/historical/r1i1p1f1/Omon/thetao/gr/v20190726/thetao/39.0.0.0',\n",
       " 'cmip6/CMIP6/CMIP/NOAA-GFDL/GFDL-ESM4/historical/r1i1p1f1/Omon/thetao/gr/v20190726/thetao/4.0.0.0',\n",
       " 'cmip6/CMIP6/CMIP/NOAA-GFDL/GFDL-ESM4/historical/r1i1p1f1/Omon/thetao/gr/v20190726/thetao/40.0.0.0',\n",
       " 'cmip6/CMIP6/CMIP/NOAA-GFDL/GFDL-ESM4/historical/r1i1p1f1/Omon/thetao/gr/v20190726/thetao/41.0.0.0',\n",
       " 'cmip6/CMIP6/CMIP/NOAA-GFDL/GFDL-ESM4/historical/r1i1p1f1/Omon/thetao/gr/v20190726/thetao/42.0.0.0',\n",
       " 'cmip6/CMIP6/CMIP/NOAA-GFDL/GFDL-ESM4/historical/r1i1p1f1/Omon/thetao/gr/v20190726/thetao/43.0.0.0',\n",
       " 'cmip6/CMIP6/CMIP/NOAA-GFDL/GFDL-ESM4/historical/r1i1p1f1/Omon/thetao/gr/v20190726/thetao/44.0.0.0',\n",
       " 'cmip6/CMIP6/CMIP/NOAA-GFDL/GFDL-ESM4/historical/r1i1p1f1/Omon/thetao/gr/v20190726/thetao/45.0.0.0',\n",
       " 'cmip6/CMIP6/CMIP/NOAA-GFDL/GFDL-ESM4/historical/r1i1p1f1/Omon/thetao/gr/v20190726/thetao/46.0.0.0',\n",
       " 'cmip6/CMIP6/CMIP/NOAA-GFDL/GFDL-ESM4/historical/r1i1p1f1/Omon/thetao/gr/v20190726/thetao/47.0.0.0',\n",
       " 'cmip6/CMIP6/CMIP/NOAA-GFDL/GFDL-ESM4/historical/r1i1p1f1/Omon/thetao/gr/v20190726/thetao/48.0.0.0',\n",
       " 'cmip6/CMIP6/CMIP/NOAA-GFDL/GFDL-ESM4/historical/r1i1p1f1/Omon/thetao/gr/v20190726/thetao/49.0.0.0',\n",
       " 'cmip6/CMIP6/CMIP/NOAA-GFDL/GFDL-ESM4/historical/r1i1p1f1/Omon/thetao/gr/v20190726/thetao/5.0.0.0',\n",
       " 'cmip6/CMIP6/CMIP/NOAA-GFDL/GFDL-ESM4/historical/r1i1p1f1/Omon/thetao/gr/v20190726/thetao/50.0.0.0',\n",
       " 'cmip6/CMIP6/CMIP/NOAA-GFDL/GFDL-ESM4/historical/r1i1p1f1/Omon/thetao/gr/v20190726/thetao/51.0.0.0',\n",
       " 'cmip6/CMIP6/CMIP/NOAA-GFDL/GFDL-ESM4/historical/r1i1p1f1/Omon/thetao/gr/v20190726/thetao/52.0.0.0',\n",
       " 'cmip6/CMIP6/CMIP/NOAA-GFDL/GFDL-ESM4/historical/r1i1p1f1/Omon/thetao/gr/v20190726/thetao/53.0.0.0',\n",
       " 'cmip6/CMIP6/CMIP/NOAA-GFDL/GFDL-ESM4/historical/r1i1p1f1/Omon/thetao/gr/v20190726/thetao/54.0.0.0',\n",
       " 'cmip6/CMIP6/CMIP/NOAA-GFDL/GFDL-ESM4/historical/r1i1p1f1/Omon/thetao/gr/v20190726/thetao/55.0.0.0',\n",
       " 'cmip6/CMIP6/CMIP/NOAA-GFDL/GFDL-ESM4/historical/r1i1p1f1/Omon/thetao/gr/v20190726/thetao/56.0.0.0',\n",
       " 'cmip6/CMIP6/CMIP/NOAA-GFDL/GFDL-ESM4/historical/r1i1p1f1/Omon/thetao/gr/v20190726/thetao/57.0.0.0',\n",
       " 'cmip6/CMIP6/CMIP/NOAA-GFDL/GFDL-ESM4/historical/r1i1p1f1/Omon/thetao/gr/v20190726/thetao/58.0.0.0',\n",
       " 'cmip6/CMIP6/CMIP/NOAA-GFDL/GFDL-ESM4/historical/r1i1p1f1/Omon/thetao/gr/v20190726/thetao/59.0.0.0',\n",
       " 'cmip6/CMIP6/CMIP/NOAA-GFDL/GFDL-ESM4/historical/r1i1p1f1/Omon/thetao/gr/v20190726/thetao/6.0.0.0',\n",
       " 'cmip6/CMIP6/CMIP/NOAA-GFDL/GFDL-ESM4/historical/r1i1p1f1/Omon/thetao/gr/v20190726/thetao/60.0.0.0',\n",
       " 'cmip6/CMIP6/CMIP/NOAA-GFDL/GFDL-ESM4/historical/r1i1p1f1/Omon/thetao/gr/v20190726/thetao/61.0.0.0',\n",
       " 'cmip6/CMIP6/CMIP/NOAA-GFDL/GFDL-ESM4/historical/r1i1p1f1/Omon/thetao/gr/v20190726/thetao/62.0.0.0',\n",
       " 'cmip6/CMIP6/CMIP/NOAA-GFDL/GFDL-ESM4/historical/r1i1p1f1/Omon/thetao/gr/v20190726/thetao/63.0.0.0',\n",
       " 'cmip6/CMIP6/CMIP/NOAA-GFDL/GFDL-ESM4/historical/r1i1p1f1/Omon/thetao/gr/v20190726/thetao/64.0.0.0',\n",
       " 'cmip6/CMIP6/CMIP/NOAA-GFDL/GFDL-ESM4/historical/r1i1p1f1/Omon/thetao/gr/v20190726/thetao/65.0.0.0',\n",
       " 'cmip6/CMIP6/CMIP/NOAA-GFDL/GFDL-ESM4/historical/r1i1p1f1/Omon/thetao/gr/v20190726/thetao/66.0.0.0',\n",
       " 'cmip6/CMIP6/CMIP/NOAA-GFDL/GFDL-ESM4/historical/r1i1p1f1/Omon/thetao/gr/v20190726/thetao/67.0.0.0',\n",
       " 'cmip6/CMIP6/CMIP/NOAA-GFDL/GFDL-ESM4/historical/r1i1p1f1/Omon/thetao/gr/v20190726/thetao/68.0.0.0',\n",
       " 'cmip6/CMIP6/CMIP/NOAA-GFDL/GFDL-ESM4/historical/r1i1p1f1/Omon/thetao/gr/v20190726/thetao/69.0.0.0',\n",
       " 'cmip6/CMIP6/CMIP/NOAA-GFDL/GFDL-ESM4/historical/r1i1p1f1/Omon/thetao/gr/v20190726/thetao/7.0.0.0',\n",
       " 'cmip6/CMIP6/CMIP/NOAA-GFDL/GFDL-ESM4/historical/r1i1p1f1/Omon/thetao/gr/v20190726/thetao/70.0.0.0',\n",
       " 'cmip6/CMIP6/CMIP/NOAA-GFDL/GFDL-ESM4/historical/r1i1p1f1/Omon/thetao/gr/v20190726/thetao/71.0.0.0',\n",
       " 'cmip6/CMIP6/CMIP/NOAA-GFDL/GFDL-ESM4/historical/r1i1p1f1/Omon/thetao/gr/v20190726/thetao/72.0.0.0',\n",
       " 'cmip6/CMIP6/CMIP/NOAA-GFDL/GFDL-ESM4/historical/r1i1p1f1/Omon/thetao/gr/v20190726/thetao/73.0.0.0',\n",
       " 'cmip6/CMIP6/CMIP/NOAA-GFDL/GFDL-ESM4/historical/r1i1p1f1/Omon/thetao/gr/v20190726/thetao/74.0.0.0',\n",
       " 'cmip6/CMIP6/CMIP/NOAA-GFDL/GFDL-ESM4/historical/r1i1p1f1/Omon/thetao/gr/v20190726/thetao/75.0.0.0',\n",
       " 'cmip6/CMIP6/CMIP/NOAA-GFDL/GFDL-ESM4/historical/r1i1p1f1/Omon/thetao/gr/v20190726/thetao/76.0.0.0',\n",
       " 'cmip6/CMIP6/CMIP/NOAA-GFDL/GFDL-ESM4/historical/r1i1p1f1/Omon/thetao/gr/v20190726/thetao/77.0.0.0',\n",
       " 'cmip6/CMIP6/CMIP/NOAA-GFDL/GFDL-ESM4/historical/r1i1p1f1/Omon/thetao/gr/v20190726/thetao/78.0.0.0',\n",
       " 'cmip6/CMIP6/CMIP/NOAA-GFDL/GFDL-ESM4/historical/r1i1p1f1/Omon/thetao/gr/v20190726/thetao/79.0.0.0',\n",
       " 'cmip6/CMIP6/CMIP/NOAA-GFDL/GFDL-ESM4/historical/r1i1p1f1/Omon/thetao/gr/v20190726/thetao/8.0.0.0',\n",
       " 'cmip6/CMIP6/CMIP/NOAA-GFDL/GFDL-ESM4/historical/r1i1p1f1/Omon/thetao/gr/v20190726/thetao/80.0.0.0',\n",
       " 'cmip6/CMIP6/CMIP/NOAA-GFDL/GFDL-ESM4/historical/r1i1p1f1/Omon/thetao/gr/v20190726/thetao/81.0.0.0',\n",
       " 'cmip6/CMIP6/CMIP/NOAA-GFDL/GFDL-ESM4/historical/r1i1p1f1/Omon/thetao/gr/v20190726/thetao/82.0.0.0',\n",
       " 'cmip6/CMIP6/CMIP/NOAA-GFDL/GFDL-ESM4/historical/r1i1p1f1/Omon/thetao/gr/v20190726/thetao/83.0.0.0',\n",
       " 'cmip6/CMIP6/CMIP/NOAA-GFDL/GFDL-ESM4/historical/r1i1p1f1/Omon/thetao/gr/v20190726/thetao/84.0.0.0',\n",
       " 'cmip6/CMIP6/CMIP/NOAA-GFDL/GFDL-ESM4/historical/r1i1p1f1/Omon/thetao/gr/v20190726/thetao/85.0.0.0',\n",
       " 'cmip6/CMIP6/CMIP/NOAA-GFDL/GFDL-ESM4/historical/r1i1p1f1/Omon/thetao/gr/v20190726/thetao/86.0.0.0',\n",
       " 'cmip6/CMIP6/CMIP/NOAA-GFDL/GFDL-ESM4/historical/r1i1p1f1/Omon/thetao/gr/v20190726/thetao/87.0.0.0',\n",
       " 'cmip6/CMIP6/CMIP/NOAA-GFDL/GFDL-ESM4/historical/r1i1p1f1/Omon/thetao/gr/v20190726/thetao/88.0.0.0',\n",
       " 'cmip6/CMIP6/CMIP/NOAA-GFDL/GFDL-ESM4/historical/r1i1p1f1/Omon/thetao/gr/v20190726/thetao/89.0.0.0',\n",
       " 'cmip6/CMIP6/CMIP/NOAA-GFDL/GFDL-ESM4/historical/r1i1p1f1/Omon/thetao/gr/v20190726/thetao/9.0.0.0',\n",
       " 'cmip6/CMIP6/CMIP/NOAA-GFDL/GFDL-ESM4/historical/r1i1p1f1/Omon/thetao/gr/v20190726/thetao/90.0.0.0',\n",
       " 'cmip6/CMIP6/CMIP/NOAA-GFDL/GFDL-ESM4/historical/r1i1p1f1/Omon/thetao/gr/v20190726/thetao/91.0.0.0',\n",
       " 'cmip6/CMIP6/CMIP/NOAA-GFDL/GFDL-ESM4/historical/r1i1p1f1/Omon/thetao/gr/v20190726/thetao/92.0.0.0',\n",
       " 'cmip6/CMIP6/CMIP/NOAA-GFDL/GFDL-ESM4/historical/r1i1p1f1/Omon/thetao/gr/v20190726/thetao/93.0.0.0',\n",
       " 'cmip6/CMIP6/CMIP/NOAA-GFDL/GFDL-ESM4/historical/r1i1p1f1/Omon/thetao/gr/v20190726/thetao/94.0.0.0',\n",
       " 'cmip6/CMIP6/CMIP/NOAA-GFDL/GFDL-ESM4/historical/r1i1p1f1/Omon/thetao/gr/v20190726/thetao/95.0.0.0',\n",
       " 'cmip6/CMIP6/CMIP/NOAA-GFDL/GFDL-ESM4/historical/r1i1p1f1/Omon/thetao/gr/v20190726/thetao/96.0.0.0',\n",
       " 'cmip6/CMIP6/CMIP/NOAA-GFDL/GFDL-ESM4/historical/r1i1p1f1/Omon/thetao/gr/v20190726/thetao/97.0.0.0',\n",
       " 'cmip6/CMIP6/CMIP/NOAA-GFDL/GFDL-ESM4/historical/r1i1p1f1/Omon/thetao/gr/v20190726/thetao/98.0.0.0',\n",
       " 'cmip6/CMIP6/CMIP/NOAA-GFDL/GFDL-ESM4/historical/r1i1p1f1/Omon/thetao/gr/v20190726/thetao/99.0.0.0']"
      ]
     },
     "execution_count": 31,
     "metadata": {},
     "output_type": "execute_result"
    }
   ],
   "source": [
    "fs.ls('cmip6/CMIP6/CMIP/NOAA-GFDL/GFDL-ESM4/historical/r1i1p1f1/Omon/thetao/gr/v20190726/thetao', detail=False)"
   ]
  },
  {
   "cell_type": "markdown",
   "id": "unlikely-brook",
   "metadata": {},
   "source": [
    "Data is stored for each chunk enumerated (xx.xx.xx.xx) along the dimensions of the array. We can guess that the data has 4 dimensions and is chunked along the first one (time in this case). All this information and other info like e.g. the compression are contained in the `.zarray` file."
   ]
  },
  {
   "cell_type": "code",
   "execution_count": 32,
   "id": "olympic-patio",
   "metadata": {},
   "outputs": [],
   "source": [
    "def print_content(url):\n",
    "    with fs.open(url, 'rb') as f:\n",
    "        print(f.read().decode('utf-8'))"
   ]
  },
  {
   "cell_type": "code",
   "execution_count": 33,
   "id": "uniform-computer",
   "metadata": {},
   "outputs": [
    {
     "name": "stdout",
     "output_type": "stream",
     "text": [
      "{\n",
      "    \"chunks\": [\n",
      "        12,\n",
      "        35,\n",
      "        180,\n",
      "        360\n",
      "    ],\n",
      "    \"compressor\": {\n",
      "        \"blocksize\": 0,\n",
      "        \"clevel\": 5,\n",
      "        \"cname\": \"lz4\",\n",
      "        \"id\": \"blosc\",\n",
      "        \"shuffle\": 1\n",
      "    },\n",
      "    \"dtype\": \"<f4\",\n",
      "    \"fill_value\": 1.0000000200408773e+20,\n",
      "    \"filters\": null,\n",
      "    \"order\": \"C\",\n",
      "    \"shape\": [\n",
      "        1980,\n",
      "        35,\n",
      "        180,\n",
      "        360\n",
      "    ],\n",
      "    \"zarr_format\": 2\n",
      "}\n"
     ]
    }
   ],
   "source": [
    "print_content('cmip6/CMIP6/CMIP/NOAA-GFDL/GFDL-ESM4/historical/r1i1p1f1/Omon/thetao/gr/v20190726/thetao/.zarray')"
   ]
  },
  {
   "cell_type": "markdown",
   "id": "handed-artist",
   "metadata": {},
   "source": [
    "The `.zattrs` file contains metadata specific to the array (for instance variable units)."
   ]
  },
  {
   "cell_type": "code",
   "execution_count": 34,
   "id": "formal-assignment",
   "metadata": {},
   "outputs": [
    {
     "name": "stdout",
     "output_type": "stream",
     "text": [
      "{\n",
      "    \"_ARRAY_DIMENSIONS\": [\n",
      "        \"time\",\n",
      "        \"lev\",\n",
      "        \"lat\",\n",
      "        \"lon\"\n",
      "    ],\n",
      "    \"cell_measures\": \"area: areacello volume: volcello\",\n",
      "    \"cell_methods\": \"area: mean where sea time: mean\",\n",
      "    \"comment\": \"Model data on the 1x1 grid includes values in all cells for which any ocean exists on the native grid. For mapping purposes, we recommend using a land mask such as World Ocean Atlas to cover these areas of partial land.  For calculating approximate integrals, we recommend multiplying by cell volume (volcello).\",\n",
      "    \"interp_method\": \"conserve_order1\",\n",
      "    \"long_name\": \"Sea Water Potential Temperature\",\n",
      "    \"original_name\": \"thetao\",\n",
      "    \"standard_name\": \"sea_water_potential_temperature\",\n",
      "    \"units\": \"degC\"\n",
      "}\n"
     ]
    }
   ],
   "source": [
    "print_content('cmip6/CMIP6/CMIP/NOAA-GFDL/GFDL-ESM4/historical/r1i1p1f1/Omon/thetao/gr/v20190726/thetao/.zattrs')"
   ]
  },
  {
   "cell_type": "markdown",
   "id": "ceramic-nepal",
   "metadata": {},
   "source": [
    "Going back to the group level, each group also contains a metadata file `.zattrs`"
   ]
  },
  {
   "cell_type": "code",
   "execution_count": 35,
   "id": "relative-miniature",
   "metadata": {},
   "outputs": [
    {
     "name": "stdout",
     "output_type": "stream",
     "text": [
      "{\"Conventions\": \"CF-1.7 CMIP-6.0 UGRID-1.0\", \"activity_id\": \"CMIP\", \"branch_method\": \"standard\", \"branch_time_in_child\": 0.0, \"branch_time_in_parent\": 36500.0, \"comment\": \"<null ref>\", \"contact\": \"gfdl.climate.model.info@noaa.gov\", \"coordinates\": \"time_bnds lon_bnds lat_bnds lev_bnds\", \"creation_date\": \"2019-08-03T00:22:55Z\", \"data_specs_version\": \"01.00.27\", \"experiment\": \"all-forcing simulation of the recent past\", \"experiment_id\": \"historical\", \"external_variables\": \"areacello volcello\", \"forcing_index\": 1, \"frequency\": \"mon\", \"further_info_url\": \"https://furtherinfo.es-doc.org/CMIP6.NOAA-GFDL.GFDL-ESM4.historical.none.r1i1p1f1\", \"grid\": \"ocean data regridded from tripolar - nominal 0.5 deg latitude/longitude to 180,360; interpolation method: conserve_order1\", \"grid_label\": \"gr\", \"history\": \"File was processed by fremetar (GFDL analog of CMOR). TripleID: [exper_id_MFLg3OOf97,realiz_id_6UiFuoEKMa,run_id_PhuSv75why]\", \"initialization_index\": 1, \"institution\": \"National Oceanic and Atmospheric Administration, Geophysical Fluid Dynamics Laboratory, Princeton, NJ 08540, USA\", \"institution_id\": \"NOAA-GFDL\", \"license\": \"CMIP6 model data produced by NOAA-GFDL is licensed under a Creative Commons Attribution-ShareAlike 4.0 International License (https://creativecommons.org/licenses/). Consult https://pcmdi.llnl.gov/CMIP6/TermsOfUse for terms of use governing CMIP6 output, including citation requirements and proper acknowledgment. Further information about this data, including some limitations, can be found via the further_info_url (recorded as a global attribute in this file). The data producers and data providers make no warranty, either express or implied, including, but not limited to, warranties of merchantability and fitness for a particular purpose. All liabilities arising from the supply of the information (including any liability arising in negligence) are excluded to the fullest extent permitted by law.\", \"mip_era\": \"CMIP6\", \"nominal_resolution\": \"1x1 degree\", \"parent_activity_id\": \"CMIP\", \"parent_experiment_id\": \"piControl\", \"parent_mip_era\": \"CMIP6\", \"parent_source_id\": \"GFDL-ESM4\", \"parent_time_units\": \"days since 0001-1-1\", \"parent_variant_label\": \"r1i1p1f1\", \"physics_index\": 1, \"product\": \"model-output\", \"realization_index\": 1, \"realm\": \"ocean\", \"references\": \"see further_info_url attribute\", \"source\": \"GFDL-ESM4 (2018):\\natmos: GFDL-AM4.1 (Cubed-sphere (c96) - 1 degree nominal horizontal resolution; 360 x 180 longitude/latitude; 49 levels; top level 1 Pa)\\nocean: GFDL-OM4p5 (GFDL-MOM6, tripolar - nominal 0.5 deg; 720 x 576 longitude/latitude; 75 levels; top grid cell 0-2 m)\\nseaIce: GFDL-SIM4p5 (GFDL-SIS2.0, tripolar - nominal 0.5 deg; 720 x 576 longitude/latitude; 5 layers; 5 thickness categories)\\nland: GFDL-LM4.1\\naerosol: interactive\\natmosChem: GFDL-ATMCHEM4.1 (full atmospheric chemistry)\\nocnBgchem: GFDL-COBALTv2\\nlandIce: GFDL-LM4.1\\n(GFDL ID: 2019_0353)\", \"source_id\": \"GFDL-ESM4\", \"source_type\": \"AOGCM AER CHEM BGC\", \"sub_experiment\": \"none\", \"sub_experiment_id\": \"none\", \"table_id\": \"Omon\", \"title\": \"NOAA GFDL GFDL-ESM4 model output prepared for CMIP6 all-forcing simulation of the recent past\", \"tracking_id\": \"hdl:21.14100/248958fd-cc5a-4876-a4b6-61edc24d6ddc\\nhdl:21.14100/191871f8-9a47-43d1-8f5a-fb21f94f613a\\nhdl:21.14100/86a811b6-7f8a-4e32-8fcd-350a4796dd7e\\nhdl:21.14100/f5b36dcf-1246-400f-b5a0-dbfa92f732c2\\nhdl:21.14100/e2199901-ee82-4e18-ae41-0f769fedf3b6\\nhdl:21.14100/e7dfdc64-69ca-4eef-823e-9d1278e86aa6\\nhdl:21.14100/82db632e-6285-4396-8c3f-6e136cabf34e\\nhdl:21.14100/af62e77a-3fe7-49ce-a2c0-5c709c57c876\\nhdl:21.14100/c1eb34d1-ee3f-4c42-ba9c-d970af6b50fb\", \"variable_id\": \"thetao\", \"variant_info\": \"N/A\", \"variant_label\": \"r1i1p1f1\", \"status\": \"2019-10-25;created;by nhn2@columbia.edu\"}\n"
     ]
    }
   ],
   "source": [
    "print_content('cmip6/CMIP6/CMIP/NOAA-GFDL/GFDL-ESM4/historical/r1i1p1f1/Omon/thetao/gr/v20190726/.zattrs')"
   ]
  },
  {
   "cell_type": "markdown",
   "id": "impressed-reach",
   "metadata": {},
   "source": [
    "`.zgroup` must only contain the zarr storage version used [see here](https://zarr.readthedocs.io/en/stable/spec/v2.html?highlight=.zgroup#groups)\n",
    "\n",
    "**@rabernat**: Is this correct?"
   ]
  },
  {
   "cell_type": "code",
   "execution_count": 36,
   "id": "equipped-drink",
   "metadata": {},
   "outputs": [
    {
     "name": "stdout",
     "output_type": "stream",
     "text": [
      "{\n",
      "    \"zarr_format\": 2\n",
      "}\n"
     ]
    }
   ],
   "source": [
    "print_content('cmip6/CMIP6/CMIP/NOAA-GFDL/GFDL-ESM4/historical/r1i1p1f1/Omon/thetao/gr/v20190726/.zgroup')"
   ]
  },
  {
   "cell_type": "markdown",
   "id": "pointed-covering",
   "metadata": {},
   "source": [
    "### Consolidated metadata\n",
    "Zarr offers the functionality to [consolidate](https://zarr.readthedocs.io/en/stable/api/convenience.html?highlight=consolidate#zarr.convenience.consolidate_metadata) the metadata of a group to enable even faster lazy access (more on that in a bit). The information is stored in `.zmetadata`."
   ]
  },
  {
   "cell_type": "code",
   "execution_count": 37,
   "id": "perceived-sugar",
   "metadata": {},
   "outputs": [
    {
     "name": "stdout",
     "output_type": "stream",
     "text": [
      "{\n",
      "    \"metadata\": {\n",
      "        \".zattrs\": {\n",
      "            \"Conventions\": \"CF-1.7 CMIP-6.0 UGRID-1.0\",\n",
      "            \"activity_id\": \"CMIP\",\n",
      "            \"branch_method\": \"standard\",\n",
      "            \"branch_time_in_child\": 0.0,\n",
      "            \"branch_time_in_parent\": 36500.0,\n",
      "            \"comment\": \"<null ref>\",\n",
      "            \"contact\": \"gfdl.climate.model.info@noaa.gov\",\n",
      "            \"coordinates\": \"time_bnds lon_bnds lat_bnds lev_bnds\",\n",
      "            \"creation_date\": \"2019-08-03T00:22:55Z\",\n",
      "            \"data_specs_version\": \"01.00.27\",\n",
      "            \"experiment\": \"all-forcing simulation of the recent past\",\n",
      "            \"experiment_id\": \"historical\",\n",
      "            \"external_variables\": \"areacello volcello\",\n",
      "            \"forcing_index\": 1,\n",
      "            \"frequency\": \"mon\",\n",
      "            \"further_info_url\": \"https://furtherinfo.es-doc.org/CMIP6.NOAA-GFDL.GFDL-ESM4.historical.none.r1i1p1f1\",\n",
      "            \"grid\": \"ocean data regridded from tripolar - nominal 0.5 deg latitude/longitude to 180,360; interpolation method: conserve_order1\",\n",
      "            \"grid_label\": \"gr\",\n",
      "            \"history\": \"File was processed by fremetar (GFDL analog of CMOR). TripleID: [exper_id_MFLg3OOf97,realiz_id_6UiFuoEKMa,run_id_PhuSv75why]\",\n",
      "            \"initialization_index\": 1,\n",
      "            \"institution\": \"National Oceanic and Atmospheric Administration, Geophysical Fluid Dynamics Laboratory, Princeton, NJ 08540, USA\",\n",
      "            \"institution_id\": \"NOAA-GFDL\",\n",
      "            \"license\": \"CMIP6 model data produced by NOAA-GFDL is licensed under a Creative Commons Attribution-ShareAlike 4.0 International License (https://creativecommons.org/licenses/). Consult https://pcmdi.llnl.gov/CMIP6/TermsOfUse for terms of use governing CMIP6 output, including citation requirements and proper acknowledgment. Further information about this data, including some limitations, can be found via the further_info_url (recorded as a global attribute in this file). The data producers and data providers make no warranty, either express or implied, including, but not limited to, warranties of merchantability and fitness for a particular purpose. All liabilities arising from the supply of the information (including any liability arising in negligence) are excluded to the fullest extent permitted by law.\",\n",
      "            \"mip_era\": \"CMIP6\",\n",
      "            \"nominal_resolution\": \"1x1 degree\",\n",
      "            \"parent_activity_id\": \"CMIP\",\n",
      "            \"parent_experiment_id\": \"piControl\",\n",
      "            \"parent_mip_era\": \"CMIP6\",\n",
      "            \"parent_source_id\": \"GFDL-ESM4\",\n",
      "            \"parent_time_units\": \"days since 0001-1-1\",\n",
      "            \"parent_variant_label\": \"r1i1p1f1\",\n",
      "            \"physics_index\": 1,\n",
      "            \"product\": \"model-output\",\n",
      "            \"realization_index\": 1,\n",
      "            \"realm\": \"ocean\",\n",
      "            \"references\": \"see further_info_url attribute\",\n",
      "            \"source\": \"GFDL-ESM4 (2018):\\natmos: GFDL-AM4.1 (Cubed-sphere (c96) - 1 degree nominal horizontal resolution; 360 x 180 longitude/latitude; 49 levels; top level 1 Pa)\\nocean: GFDL-OM4p5 (GFDL-MOM6, tripolar - nominal 0.5 deg; 720 x 576 longitude/latitude; 75 levels; top grid cell 0-2 m)\\nseaIce: GFDL-SIM4p5 (GFDL-SIS2.0, tripolar - nominal 0.5 deg; 720 x 576 longitude/latitude; 5 layers; 5 thickness categories)\\nland: GFDL-LM4.1\\naerosol: interactive\\natmosChem: GFDL-ATMCHEM4.1 (full atmospheric chemistry)\\nocnBgchem: GFDL-COBALTv2\\nlandIce: GFDL-LM4.1\\n(GFDL ID: 2019_0353)\",\n",
      "            \"source_id\": \"GFDL-ESM4\",\n",
      "            \"source_type\": \"AOGCM AER CHEM BGC\",\n",
      "            \"sub_experiment\": \"none\",\n",
      "            \"sub_experiment_id\": \"none\",\n",
      "            \"table_id\": \"Omon\",\n",
      "            \"title\": \"NOAA GFDL GFDL-ESM4 model output prepared for CMIP6 all-forcing simulation of the recent past\",\n",
      "            \"tracking_id\": \"hdl:21.14100/248958fd-cc5a-4876-a4b6-61edc24d6ddc\\nhdl:21.14100/191871f8-9a47-43d1-8f5a-fb21f94f613a\\nhdl:21.14100/86a811b6-7f8a-4e32-8fcd-350a4796dd7e\\nhdl:21.14100/f5b36dcf-1246-400f-b5a0-dbfa92f732c2\\nhdl:21.14100/e2199901-ee82-4e18-ae41-0f769fedf3b6\\nhdl:21.14100/e7dfdc64-69ca-4eef-823e-9d1278e86aa6\\nhdl:21.14100/82db632e-6285-4396-8c3f-6e136cabf34e\\nhdl:21.14100/af62e77a-3fe7-49ce-a2c0-5c709c57c876\\nhdl:21.14100/c1eb34d1-ee3f-4c42-ba9c-d970af6b50fb\",\n",
      "            \"variable_id\": \"thetao\",\n",
      "            \"variant_info\": \"N/A\",\n",
      "            \"variant_label\": \"r1i1p1f1\",\n",
      "            \"status\": \"2019-10-25;created;by nhn2@columbia.edu\",\n",
      "            \"netcdf_tracking_ids\": \"hdl:21.14100/248958fd-cc5a-4876-a4b6-61edc24d6ddc\\nhdl:21.14100/191871f8-9a47-43d1-8f5a-fb21f94f613a\\nhdl:21.14100/86a811b6-7f8a-4e32-8fcd-350a4796dd7e\\nhdl:21.14100/f5b36dcf-1246-400f-b5a0-dbfa92f732c2\\nhdl:21.14100/e2199901-ee82-4e18-ae41-0f769fedf3b6\\nhdl:21.14100/e7dfdc64-69ca-4eef-823e-9d1278e86aa6\\nhdl:21.14100/82db632e-6285-4396-8c3f-6e136cabf34e\\nhdl:21.14100/af62e77a-3fe7-49ce-a2c0-5c709c57c876\\nhdl:21.14100/c1eb34d1-ee3f-4c42-ba9c-d970af6b50fb\",\n",
      "            \"version_id\": \"v20190726\"\n",
      "        },\n",
      "        \".zgroup\": {\n",
      "            \"zarr_format\": 2\n",
      "        },\n",
      "        \"lat/.zarray\": {\n",
      "            \"chunks\": [\n",
      "                180\n",
      "            ],\n",
      "            \"compressor\": {\n",
      "                \"blocksize\": 0,\n",
      "                \"clevel\": 5,\n",
      "                \"cname\": \"lz4\",\n",
      "                \"id\": \"blosc\",\n",
      "                \"shuffle\": 1\n",
      "            },\n",
      "            \"dtype\": \"<f8\",\n",
      "            \"fill_value\": \"NaN\",\n",
      "            \"filters\": null,\n",
      "            \"order\": \"C\",\n",
      "            \"shape\": [\n",
      "                180\n",
      "            ],\n",
      "            \"zarr_format\": 2\n",
      "        },\n",
      "        \"lat/.zattrs\": {\n",
      "            \"_ARRAY_DIMENSIONS\": [\n",
      "                \"lat\"\n",
      "            ],\n",
      "            \"axis\": \"Y\",\n",
      "            \"bounds\": \"lat_bnds\",\n",
      "            \"cell_methods\": \"time: point\",\n",
      "            \"long_name\": \"latitude\",\n",
      "            \"standard_name\": \"latitude\",\n",
      "            \"units\": \"degrees_north\"\n",
      "        },\n",
      "        \"lat_bnds/.zarray\": {\n",
      "            \"chunks\": [\n",
      "                180,\n",
      "                2\n",
      "            ],\n",
      "            \"compressor\": {\n",
      "                \"blocksize\": 0,\n",
      "                \"clevel\": 5,\n",
      "                \"cname\": \"lz4\",\n",
      "                \"id\": \"blosc\",\n",
      "                \"shuffle\": 1\n",
      "            },\n",
      "            \"dtype\": \"<f8\",\n",
      "            \"fill_value\": \"NaN\",\n",
      "            \"filters\": null,\n",
      "            \"order\": \"C\",\n",
      "            \"shape\": [\n",
      "                180,\n",
      "                2\n",
      "            ],\n",
      "            \"zarr_format\": 2\n",
      "        },\n",
      "        \"lat_bnds/.zattrs\": {\n",
      "            \"_ARRAY_DIMENSIONS\": [\n",
      "                \"lat\",\n",
      "                \"bnds\"\n",
      "            ]\n",
      "        },\n",
      "        \"lev/.zarray\": {\n",
      "            \"chunks\": [\n",
      "                35\n",
      "            ],\n",
      "            \"compressor\": {\n",
      "                \"blocksize\": 0,\n",
      "                \"clevel\": 5,\n",
      "                \"cname\": \"lz4\",\n",
      "                \"id\": \"blosc\",\n",
      "                \"shuffle\": 1\n",
      "            },\n",
      "            \"dtype\": \"<f8\",\n",
      "            \"fill_value\": \"NaN\",\n",
      "            \"filters\": null,\n",
      "            \"order\": \"C\",\n",
      "            \"shape\": [\n",
      "                35\n",
      "            ],\n",
      "            \"zarr_format\": 2\n",
      "        },\n",
      "        \"lev/.zattrs\": {\n",
      "            \"_ARRAY_DIMENSIONS\": [\n",
      "                \"lev\"\n",
      "            ],\n",
      "            \"axis\": \"Z\",\n",
      "            \"bounds\": \"lev_bnds\",\n",
      "            \"description\": \"generic ocean model vertical coordinate (nondimensional or dimensional)\",\n",
      "            \"long_name\": \"ocean model level\",\n",
      "            \"positive\": \"down\",\n",
      "            \"units\": \"m\"\n",
      "        },\n",
      "        \"lev_bnds/.zarray\": {\n",
      "            \"chunks\": [\n",
      "                35,\n",
      "                2\n",
      "            ],\n",
      "            \"compressor\": {\n",
      "                \"blocksize\": 0,\n",
      "                \"clevel\": 5,\n",
      "                \"cname\": \"lz4\",\n",
      "                \"id\": \"blosc\",\n",
      "                \"shuffle\": 1\n",
      "            },\n",
      "            \"dtype\": \"<f8\",\n",
      "            \"fill_value\": \"NaN\",\n",
      "            \"filters\": null,\n",
      "            \"order\": \"C\",\n",
      "            \"shape\": [\n",
      "                35,\n",
      "                2\n",
      "            ],\n",
      "            \"zarr_format\": 2\n",
      "        },\n",
      "        \"lev_bnds/.zattrs\": {\n",
      "            \"_ARRAY_DIMENSIONS\": [\n",
      "                \"lev\",\n",
      "                \"bnds\"\n",
      "            ]\n",
      "        },\n",
      "        \"lon/.zarray\": {\n",
      "            \"chunks\": [\n",
      "                360\n",
      "            ],\n",
      "            \"compressor\": {\n",
      "                \"blocksize\": 0,\n",
      "                \"clevel\": 5,\n",
      "                \"cname\": \"lz4\",\n",
      "                \"id\": \"blosc\",\n",
      "                \"shuffle\": 1\n",
      "            },\n",
      "            \"dtype\": \"<f8\",\n",
      "            \"fill_value\": \"NaN\",\n",
      "            \"filters\": null,\n",
      "            \"order\": \"C\",\n",
      "            \"shape\": [\n",
      "                360\n",
      "            ],\n",
      "            \"zarr_format\": 2\n",
      "        },\n",
      "        \"lon/.zattrs\": {\n",
      "            \"_ARRAY_DIMENSIONS\": [\n",
      "                \"lon\"\n",
      "            ],\n",
      "            \"axis\": \"X\",\n",
      "            \"bounds\": \"lon_bnds\",\n",
      "            \"cell_methods\": \"time: point\",\n",
      "            \"long_name\": \"longitude\",\n",
      "            \"standard_name\": \"longitude\",\n",
      "            \"units\": \"degrees_east\"\n",
      "        },\n",
      "        \"lon_bnds/.zarray\": {\n",
      "            \"chunks\": [\n",
      "                360,\n",
      "                2\n",
      "            ],\n",
      "            \"compressor\": {\n",
      "                \"blocksize\": 0,\n",
      "                \"clevel\": 5,\n",
      "                \"cname\": \"lz4\",\n",
      "                \"id\": \"blosc\",\n",
      "                \"shuffle\": 1\n",
      "            },\n",
      "            \"dtype\": \"<f8\",\n",
      "            \"fill_value\": \"NaN\",\n",
      "            \"filters\": null,\n",
      "            \"order\": \"C\",\n",
      "            \"shape\": [\n",
      "                360,\n",
      "                2\n",
      "            ],\n",
      "            \"zarr_format\": 2\n",
      "        },\n",
      "        \"lon_bnds/.zattrs\": {\n",
      "            \"_ARRAY_DIMENSIONS\": [\n",
      "                \"lon\",\n",
      "                \"bnds\"\n",
      "            ]\n",
      "        },\n",
      "        \"thetao/.zarray\": {\n",
      "            \"chunks\": [\n",
      "                12,\n",
      "                35,\n",
      "                180,\n",
      "                360\n",
      "            ],\n",
      "            \"compressor\": {\n",
      "                \"blocksize\": 0,\n",
      "                \"clevel\": 5,\n",
      "                \"cname\": \"lz4\",\n",
      "                \"id\": \"blosc\",\n",
      "                \"shuffle\": 1\n",
      "            },\n",
      "            \"dtype\": \"<f4\",\n",
      "            \"fill_value\": 1.0000000200408773e+20,\n",
      "            \"filters\": null,\n",
      "            \"order\": \"C\",\n",
      "            \"shape\": [\n",
      "                1980,\n",
      "                35,\n",
      "                180,\n",
      "                360\n",
      "            ],\n",
      "            \"zarr_format\": 2\n",
      "        },\n",
      "        \"thetao/.zattrs\": {\n",
      "            \"_ARRAY_DIMENSIONS\": [\n",
      "                \"time\",\n",
      "                \"lev\",\n",
      "                \"lat\",\n",
      "                \"lon\"\n",
      "            ],\n",
      "            \"cell_measures\": \"area: areacello volume: volcello\",\n",
      "            \"cell_methods\": \"area: mean where sea time: mean\",\n",
      "            \"comment\": \"Model data on the 1x1 grid includes values in all cells for which any ocean exists on the native grid. For mapping purposes, we recommend using a land mask such as World Ocean Atlas to cover these areas of partial land.  For calculating approximate integrals, we recommend multiplying by cell volume (volcello).\",\n",
      "            \"interp_method\": \"conserve_order1\",\n",
      "            \"long_name\": \"Sea Water Potential Temperature\",\n",
      "            \"original_name\": \"thetao\",\n",
      "            \"standard_name\": \"sea_water_potential_temperature\",\n",
      "            \"units\": \"degC\"\n",
      "        },\n",
      "        \"time/.zarray\": {\n",
      "            \"chunks\": [\n",
      "                1980\n",
      "            ],\n",
      "            \"compressor\": {\n",
      "                \"blocksize\": 0,\n",
      "                \"clevel\": 5,\n",
      "                \"cname\": \"lz4\",\n",
      "                \"id\": \"blosc\",\n",
      "                \"shuffle\": 1\n",
      "            },\n",
      "            \"dtype\": \"<i8\",\n",
      "            \"fill_value\": null,\n",
      "            \"filters\": null,\n",
      "            \"order\": \"C\",\n",
      "            \"shape\": [\n",
      "                1980\n",
      "            ],\n",
      "            \"zarr_format\": 2\n",
      "        },\n",
      "        \"time/.zattrs\": {\n",
      "            \"_ARRAY_DIMENSIONS\": [\n",
      "                \"time\"\n",
      "            ],\n",
      "            \"axis\": \"T\",\n",
      "            \"bounds\": \"time_bnds\",\n",
      "            \"calendar\": \"noleap\",\n",
      "            \"calendar_type\": \"noleap\",\n",
      "            \"description\": \"Temporal mean\",\n",
      "            \"long_name\": \"time\",\n",
      "            \"standard_name\": \"time\",\n",
      "            \"units\": \"hours since 1850-01-16 12:00:00.000000\"\n",
      "        },\n",
      "        \"time_bnds/.zarray\": {\n",
      "            \"chunks\": [\n",
      "                1980,\n",
      "                2\n",
      "            ],\n",
      "            \"compressor\": {\n",
      "                \"blocksize\": 0,\n",
      "                \"clevel\": 5,\n",
      "                \"cname\": \"lz4\",\n",
      "                \"id\": \"blosc\",\n",
      "                \"shuffle\": 1\n",
      "            },\n",
      "            \"dtype\": \"<f8\",\n",
      "            \"fill_value\": \"NaN\",\n",
      "            \"filters\": null,\n",
      "            \"order\": \"C\",\n",
      "            \"shape\": [\n",
      "                1980,\n",
      "                2\n",
      "            ],\n",
      "            \"zarr_format\": 2\n",
      "        },\n",
      "        \"time_bnds/.zattrs\": {\n",
      "            \"_ARRAY_DIMENSIONS\": [\n",
      "                \"time\",\n",
      "                \"bnds\"\n",
      "            ],\n",
      "            \"calendar\": \"noleap\",\n",
      "            \"long_name\": \"time axis boundaries\",\n",
      "            \"units\": \"days since 1850-01-01\"\n",
      "        }\n",
      "    },\n",
      "    \"zarr_consolidated_format\": 1\n",
      "}\n"
     ]
    }
   ],
   "source": [
    "print_content('cmip6/CMIP6/CMIP/NOAA-GFDL/GFDL-ESM4/historical/r1i1p1f1/Omon/thetao/gr/v20190726/.zmetadata')"
   ]
  },
  {
   "cell_type": "markdown",
   "id": "brave-elevation",
   "metadata": {},
   "source": [
    "## Accesing zarr files\n",
    "\n",
    "### Directly with Zarr"
   ]
  },
  {
   "cell_type": "code",
   "execution_count": 38,
   "id": "demographic-advertising",
   "metadata": {},
   "outputs": [
    {
     "data": {
      "text/html": [
       "<table class=\"zarr-info\"><tbody><tr><th style=\"text-align: left\">Name</th><td style=\"text-align: left\">/</td></tr><tr><th style=\"text-align: left\">Type</th><td style=\"text-align: left\">zarr.hierarchy.Group</td></tr><tr><th style=\"text-align: left\">Read-only</th><td style=\"text-align: left\">False</td></tr><tr><th style=\"text-align: left\">Store type</th><td style=\"text-align: left\">fsspec.mapping.FSMap</td></tr><tr><th style=\"text-align: left\">No. members</th><td style=\"text-align: left\">9</td></tr><tr><th style=\"text-align: left\">No. arrays</th><td style=\"text-align: left\">9</td></tr><tr><th style=\"text-align: left\">No. groups</th><td style=\"text-align: left\">0</td></tr><tr><th style=\"text-align: left\">Arrays</th><td style=\"text-align: left\">lat, lat_bnds, lev, lev_bnds, lon, lon_bnds, thetao, time, time_bnds</td></tr></tbody></table>"
      ],
      "text/plain": [
       "Name        : /\n",
       "Type        : zarr.hierarchy.Group\n",
       "Read-only   : False\n",
       "Store type  : fsspec.mapping.FSMap\n",
       "No. members : 9\n",
       "No. arrays  : 9\n",
       "No. groups  : 0\n",
       "Arrays      : lat, lat_bnds, lev, lev_bnds, lon, lon_bnds, thetao, time,\n",
       "            : time_bnds"
      ]
     },
     "execution_count": 38,
     "metadata": {},
     "output_type": "execute_result"
    }
   ],
   "source": [
    "import zarr\n",
    "\n",
    "zstore = zarr.open_group(mapper)\n",
    "\n",
    "zstore.info"
   ]
  },
  {
   "cell_type": "markdown",
   "id": "endless-notebook",
   "metadata": {},
   "source": [
    "Lets access the `thetao` array"
   ]
  },
  {
   "cell_type": "code",
   "execution_count": 39,
   "id": "requested-sweden",
   "metadata": {},
   "outputs": [
    {
     "data": {
      "text/plain": [
       "<zarr.core.Array '/thetao' (1980, 35, 180, 360) float32>"
      ]
     },
     "execution_count": 39,
     "metadata": {},
     "output_type": "execute_result"
    }
   ],
   "source": [
    "zstore.thetao"
   ]
  },
  {
   "cell_type": "markdown",
   "id": "quarterly-transport",
   "metadata": {},
   "source": [
    "@rabernat: I am actually not entirely sure how to access the zarr data from here? Let me know if this is at all useful.\n",
    "\n",
    "Lets inspect the first chunk:"
   ]
  },
  {
   "cell_type": "code",
   "execution_count": 40,
   "id": "awful-tsunami",
   "metadata": {},
   "outputs": [],
   "source": [
    "data = zstore.thetao.get_basic_selection(1)"
   ]
  },
  {
   "cell_type": "code",
   "execution_count": 41,
   "id": "sharp-arrow",
   "metadata": {},
   "outputs": [],
   "source": [
    "import matplotlib.pyplot as plt"
   ]
  },
  {
   "cell_type": "code",
   "execution_count": null,
   "id": "alien-marketplace",
   "metadata": {},
   "outputs": [],
   "source": [
    "plt.pcolor(data[0,:,:], vmax=40)\n",
    "plt.colorbar()"
   ]
  },
  {
   "cell_type": "markdown",
   "id": "musical-tracy",
   "metadata": {},
   "source": [
    "### Opening zarr with xarray"
   ]
  },
  {
   "cell_type": "code",
   "execution_count": null,
   "id": "registered-bradley",
   "metadata": {},
   "outputs": [],
   "source": [
    "import xarray as xr\n",
    "ds = xr.open_zarr(mapper, consolidated=True)\n",
    "ds"
   ]
  },
  {
   "cell_type": "markdown",
   "id": "large-compilation",
   "metadata": {},
   "source": [
    "Note that the file opened virtually instantaneous. This is due to the fact that we are working with a 'consolidated' zarr store, hence only one file has to be read to 'understand' the shape and metadata of the group (dataset in xarray lingo). \n",
    "None of the actual data is loaded at this point. Except for the dimension variables, all data is lazily loaded as dask arrays"
   ]
  },
  {
   "cell_type": "code",
   "execution_count": null,
   "id": "defined-announcement",
   "metadata": {},
   "outputs": [],
   "source": [
    "ds.thetao"
   ]
  },
  {
   "cell_type": "markdown",
   "id": "exposed-grace",
   "metadata": {},
   "source": [
    "xarray uses dask under the hood to load data lazily and parallelize computations across the chunks of each zarr array (Dataarray in xarray lingo)"
   ]
  },
  {
   "cell_type": "code",
   "execution_count": null,
   "id": "european-cradle",
   "metadata": {},
   "outputs": [],
   "source": [
    "# Simple computation\n",
    "mean_thetao = ds.thetao.isel(lev=0, time=slice(0,120)).mean(['lon', 'lat']) #average surface temperature over 10 years\n",
    "mean_thetao"
   ]
  },
  {
   "cell_type": "markdown",
   "id": "numerical-multiple",
   "metadata": {},
   "source": [
    "Again this did not yet trigger any computation, but dask builds a graph that shows how each chunk will be processed in parallel.\n",
    "\n",
    "**@rabernat**: I wasnt able to cull this dask graph for a smaller graph visualization. do you know a quick way to do this? "
   ]
  },
  {
   "cell_type": "code",
   "execution_count": null,
   "id": "impossible-sessions",
   "metadata": {},
   "outputs": [],
   "source": [
    "mean_thetao.data.visualize()"
   ]
  },
  {
   "cell_type": "markdown",
   "id": "extreme-hardware",
   "metadata": {},
   "source": [
    "Since each chunk contains 12 months worth of data, the computation over 10 years creates 10 branches in the task graph."
   ]
  },
  {
   "cell_type": "markdown",
   "id": "smart-success",
   "metadata": {},
   "source": [
    "Plotting the resulting values finally triggers the computation:"
   ]
  },
  {
   "cell_type": "code",
   "execution_count": null,
   "id": "undefined-absence",
   "metadata": {},
   "outputs": [],
   "source": [
    "mean_thetao.plot()"
   ]
  },
  {
   "cell_type": "code",
   "execution_count": null,
   "id": "exempt-equation",
   "metadata": {},
   "outputs": [],
   "source": []
  },
  {
   "cell_type": "code",
   "execution_count": null,
   "id": "supposed-earthquake",
   "metadata": {},
   "outputs": [],
   "source": []
  },
  {
   "cell_type": "code",
   "execution_count": null,
   "id": "actual-school",
   "metadata": {},
   "outputs": [],
   "source": []
  }
 ],
 "metadata": {
  "kernelspec": {
   "display_name": "Python [conda env:notebook] *",
   "language": "python",
   "name": "conda-env-notebook-py"
  },
  "language_info": {
   "codemirror_mode": {
    "name": "ipython",
    "version": 3
   },
   "file_extension": ".py",
   "mimetype": "text/x-python",
   "name": "python",
   "nbconvert_exporter": "python",
   "pygments_lexer": "ipython3",
   "version": "3.8.6"
  }
 },
 "nbformat": 4,
 "nbformat_minor": 5
}
